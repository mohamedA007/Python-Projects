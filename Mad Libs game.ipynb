{
 "cells": [
  {
   "cell_type": "code",
   "execution_count": 1,
   "metadata": {},
   "outputs": [
    {
     "name": "stdout",
     "output_type": "stream",
     "text": [
      "Enter a coloryellow\n",
      "Enter a nounhappy\n",
      "Enter a person nameme\n",
      "Roses are yellow\n",
      "happyare blue\n",
      "I loveme\n"
     ]
    }
   ],
   "source": [
    "color= input('Enter a color')\n",
    "noun= input('Enter a noun')\n",
    "who= input('Enter a person name')\n",
    "\n",
    "print(\"Roses are \" + color)\n",
    "print(noun+ \"are blue\")\n",
    "print(\"I love\"+ who)\n"
   ]
  },
  {
   "cell_type": "code",
   "execution_count": 2,
   "metadata": {},
   "outputs": [
    {
     "name": "stdout",
     "output_type": "stream",
     "text": [
      "Enter a colorroses\n",
      "Enter a nounviolets\n",
      "Enter a person nameme\n",
      "Roses are roses\n",
      "violetsare blue\n",
      "I loveme\n"
     ]
    }
   ],
   "source": [
    "color= input('Enter a color')\n",
    "noun= input('Enter a noun')\n",
    "who= input('Enter a person name')\n",
    "\n",
    "print(\"Roses are \" + color)\n",
    "print(noun + \"are blue\")\n",
    "print(\"I love\" + who)\n"
   ]
  },
  {
   "cell_type": "code",
   "execution_count": 3,
   "metadata": {
    "scrolled": true
   },
   "outputs": [
    {
     "name": "stdout",
     "output_type": "stream",
     "text": [
      "Enter a color: roses\n",
      "Enter a noun: violets\n",
      "Enter a person name: me\n",
      "Roses are roses\n",
      "violets are blue\n",
      "I love me\n"
     ]
    }
   ],
   "source": [
    "color = input('Enter a color: ')\n",
    "noun = input('Enter a noun: ')\n",
    "who= input('Enter a person name: ')\n",
    "\n",
    "print(\"Roses are \" + color)\n",
    "print(noun + \" are blue\")\n",
    "print(\"I love \"+ who)\n"
   ]
  },
  {
   "cell_type": "code",
   "execution_count": 4,
   "metadata": {},
   "outputs": [
    {
     "name": "stdout",
     "output_type": "stream",
     "text": [
      "Enter a color: roses\n",
      "Enter a noun: violets\n",
      "Enter a person name: you\n",
      "Roses are roses\n",
      "violets are blue\n",
      "I love you\n"
     ]
    }
   ],
   "source": [
    "color = input('Enter a color: ')\n",
    "noun = input('Enter a noun: ')\n",
    "who= input('Enter a person name: ')\n",
    "\n",
    "print(\"Roses are \" + color)\n",
    "print(noun + \" are blue\")\n",
    "print(\"I love \"+ who)"
   ]
  },
  {
   "cell_type": "code",
   "execution_count": null,
   "metadata": {},
   "outputs": [],
   "source": []
  },
  {
   "cell_type": "code",
   "execution_count": 5,
   "metadata": {},
   "outputs": [
    {
     "name": "stdout",
     "output_type": "stream",
     "text": [
      "Enter a color: roses\n",
      "Enter a noun: violets\n",
      "Enter a person name: you\n",
      "Roses are roses\n",
      "violets are blue\n",
      "I love you\n"
     ]
    }
   ],
   "source": [
    "color = input('Enter a color: ')\n",
    "noun = input('Enter a noun: ')\n",
    "who= input('Enter a person name: ')\n",
    "\n",
    "print(\"Roses are \" + color)\n",
    "print(noun + \" are blue\")\n",
    "print(\"I love \"+ who)"
   ]
  },
  {
   "cell_type": "code",
   "execution_count": null,
   "metadata": {},
   "outputs": [],
   "source": []
  }
 ],
 "metadata": {
  "kernelspec": {
   "display_name": "Python 3",
   "language": "python",
   "name": "python3"
  },
  "language_info": {
   "codemirror_mode": {
    "name": "ipython",
    "version": 3
   },
   "file_extension": ".py",
   "mimetype": "text/x-python",
   "name": "python",
   "nbconvert_exporter": "python",
   "pygments_lexer": "ipython3",
   "version": "3.8.5"
  }
 },
 "nbformat": 4,
 "nbformat_minor": 4
}
